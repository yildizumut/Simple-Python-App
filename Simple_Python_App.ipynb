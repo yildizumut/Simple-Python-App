{
 "cells": [
  {
   "cell_type": "markdown",
   "metadata": {},
   "source": [
    "# Introduction"
   ]
  },
  {
   "cell_type": "markdown",
   "metadata": {},
   "source": [
    "Here in this tutorial, we will create a very simple Python application that can be really useful in various business cases. It will be a simple application, because user can use it through the command prompt window. If you are not looking for fancy GUIs, you can construct your easy-peasy Python application right away and it can make your life a lot easier. You can give up preparing the same analysis over and over again, with different input parameters and save a great deal of your efforts in the long run.\n",
    "\n",
    "I will rely on a single example throughout the tutorial and before diving deeper into it, I would like to talk about a business scenario where we need a simple currency exchange rate analysis to get things going with our daily operations at work.\n",
    "\n",
    "Suppose, I am interested in getting an idea of where €/$ exchange rate can move in some future and I would like to simulate it daily using Geometric Brownian Motion(GBM). At the end, I can calculate my risk due to currency movements. So, what I need to do is the following.\n",
    "\n",
    "1. Decide how far to go back in the past and get €/$ rate to calculate daily volatility to be used in GBM algorithm,\n",
    "2. Decide how far into the future our simulations should go,\n",
    "3. Decide how many different future scenarios we would like to have,\n",
    "4. (optional) If I want to try different scenarios based on some daily volatility assumptions other than the historical one, I should be able to enter a daily volatility value manually\n",
    "\n",
    "Above four decisions are input to our simulation algorithm and we want users to be able to appropriately provide them to our program and get the results. In our case, we have two output files:\n",
    "\n",
    "1. Number of scenarios(supplied by the user) many simulated forward €/$ rates as xlsx, and\n",
    "2. Line graph of the simulated rates over all the scenarios as png\n",
    "\n",
    "In order to make this a stand-alone desktop application, first, we need to create a virtual python environment and install all the required packages that our program uses. Then, we can write the script, but the important thing here is to set our Desktop path(or a folder in Desktop) as the working directory in our code. So, all the operations take place on our Desktop or a user-created folder on Desktop, and the user can have access to the output files.\n",
    "\n",
    "Below, you can see the steps we will follow in the tutorial."
   ]
  },
  {
   "cell_type": "markdown",
   "metadata": {},
   "source": [
    "# Steps"
   ]
  },
  {
   "cell_type": "markdown",
   "metadata": {},
   "source": [
    "1. Creating virtual python environment\n",
    "2. Installing packages to the virtual environment\n",
    "3. Creating the script  \n",
    "    3.1. Setting Desktop folder as the working directory  \n",
    "    3.2. Getting input from the user  \n",
    "    3.3. Retrieving exchange rate data from Quandl  \n",
    "    3.4. GBM Algorithm  \n",
    "    3.5. Plotting the simulated rates and creating .png  \n",
    "    3.6. Writing the scenarios into .xlsx using xlsxwriter  \n",
    "    3.7. Collecting the output files into a folder  \n",
    "    3.8. Re-initiating the program  \n",
    "4. Creating a shortcut on Desktop for the app  \n",
    "5. Example run  \n",
    "6. (Bonus) Adding kernel to Jupyter notebook"
   ]
  },
  {
   "cell_type": "markdown",
   "metadata": {},
   "source": [
    "## 1. Creating virtual python environment"
   ]
  },
  {
   "cell_type": "markdown",
   "metadata": {},
   "source": [
    "Virtual environments are great for managing python versions, packages and dependencies. You can customize a specific environment for a specific project and you avoid any version & dependency problems. Using a single python environment to build many models may not be good practice since different projects may require different packages with different versions and updating a package may corrupt your other models causing things to get out of your control. Depending on this motivation, we may create model or project specific virtual environments and  therefore, we want our script to use default & installed packages from the virtual environment we want. In the later sections of this tutorial, we will explore in more detail how to change the python interpreter that our scripts use.  \n",
    "\n",
    "Before creating the virtual environment, you have to make sure that you have a working Python installation and it is in the Path. You can download it from https://www.python.org/downloads/ and during the installation you can add python to the Path variable by checking the appropriate box on the installation screen when it appears (I believe it is the first screen). If you have a python installation, but it is not in the path, you can add it by:\n",
    "- Control Panel -> System and Security -> System -> Advanced System Settings -> \"Environment Variables\" (under \"Advanced\" tab) -> Select \"Path\" variable under \"System variables\" box -> Click \"Edit\" -> Click \"New\"  \n",
    "You need to copy and paste two directories:\n",
    "1. path_to_python\\Python37 -> You can edit this with where your Python is installed\n",
    "2. path_to_python\\Python37\\Scripts  "
   ]
  },
  {
   "cell_type": "markdown",
   "metadata": {},
   "source": [
    "![path_var_2.PNG](path_var_2.PNG)"
   ]
  },
  {
   "cell_type": "markdown",
   "metadata": {},
   "source": [
    "Then, python gets in the Path and we are ready to create a virtual environment.\n",
    "\n",
    "Now, we need to create an empty folder to host our virtual environment. For this tutorial, I create a folder named PythonVEnvs on the desktop and inside it, I create another folder named Python_VEnv_FXsimulator (You can create it anywhere on your computer as long as you have access permission). We can create the virtual environment that is specific to our application, inside Python_VEnv_FXsimulator. For other projects, we can just create other folders and dump virtual environments into them.  "
   ]
  },
  {
   "cell_type": "markdown",
   "metadata": {},
   "source": [
    "Open a command prompt window and type:  \n",
    "python -m venv path_to_python_environment  \n",
    "You can find the documentation on https://docs.python.org/3/library/venv.html"
   ]
  },
  {
   "cell_type": "markdown",
   "metadata": {},
   "source": [
    "![venv_cmd_2.PNG](venv_cmd_2.PNG)"
   ]
  },
  {
   "cell_type": "markdown",
   "metadata": {},
   "source": [
    "Then, we have a clean virtual environment. Next task is to install required packages.  "
   ]
  },
  {
   "cell_type": "markdown",
   "metadata": {},
   "source": [
    "![venv_folder_2.PNG](venv_folder_2.PNG)"
   ]
  },
  {
   "cell_type": "markdown",
   "metadata": {},
   "source": [
    "## 2. Installing packages to the virtual environment"
   ]
  },
  {
   "cell_type": "markdown",
   "metadata": {},
   "source": [
    "In this tutorial, we need below packages:  \n",
    "1. pandas  \n",
    "2. numpy  \n",
    "3. matplotlib  -> to plot scenarios against forward dates  \n",
    "4. xlsxwriter  -> to write exchange rates for scenarios into Excel  \n",
    "5. datetime  \n",
    "6. quandl      -> to retrieve exchange rates through quandl python api"
   ]
  },
  {
   "cell_type": "markdown",
   "metadata": {},
   "source": [
    "In order to install these packages into our newly created virtual environment, we should open the command prompt window in Scripts folder of the directory where we set up the virtual environment (or we can open the command prompt and move to the Scripts folder using cd command). In my case, the directory is:  \n",
    "  \n",
    "C:\\Users\\Umut YILDIZ\\Desktop\\PythonVEnvs\\Python_VEnv_FXsimulator\\Scripts  "
   ]
  },
  {
   "cell_type": "markdown",
   "metadata": {},
   "source": [
    "1. Using cd  "
   ]
  },
  {
   "cell_type": "markdown",
   "metadata": {},
   "source": [
    "![cd_venv.PNG](cd_venv_2.PNG)  "
   ]
  },
  {
   "cell_type": "markdown",
   "metadata": {},
   "source": [
    "2. Opening cmd in the virtual environment  \n",
    "First, you need to go to the virtual environment folder, then there are two ways to open command prompt window there:  \n",
    "1. Right-click the mouse while holding shift button, and then select \"Open command window here\", or  \n",
    "2. Type \"cmd\" in the address bar and hit enter  \n",
    "Here is explanation: https://www.thewindowsclub.com/how-to-open-command-prompt-from-right-click-menu  "
   ]
  },
  {
   "cell_type": "markdown",
   "metadata": {},
   "source": [
    "![cmd_venv.PNG](cmd_venv_2.PNG)  "
   ]
  },
  {
   "cell_type": "markdown",
   "metadata": {},
   "source": [
    "Then, we need to activate our python environment. We can do that by simply typing \"activate\"    "
   ]
  },
  {
   "cell_type": "markdown",
   "metadata": {},
   "source": [
    "![act_venv.PNG](act_venv_2.PNG)  "
   ]
  },
  {
   "cell_type": "markdown",
   "metadata": {},
   "source": [
    "At this point, we can use the pip package manager to install the required packages and they will be installed into our virtual environment (\"path_to_virtual_environment\\Lib\\site-packages\").  \n",
    "\n",
    "You can install any package by typing:  \n",
    "pip install package_name  \n",
    "\n",
    "In our case, we can install all the required packages at once by typing:  \n",
    "pip install pandas & pip install matplotlib & pip install xlsxwriter & pip install datetime & pip install quandl  \n",
    "\n",
    "Note that, when we install pandas, the appropriate numpy version comes with it, so we don't need to install it separately.  "
   ]
  },
  {
   "cell_type": "markdown",
   "metadata": {},
   "source": [
    "![venv_pip.PNG](venv_pip_2.PNG)  "
   ]
  },
  {
   "cell_type": "markdown",
   "metadata": {},
   "source": [
    "Just to check if the packages are installed correctly, you can type \"python\" in the command prompt and import the packages to see whether any error pops up.  "
   ]
  },
  {
   "cell_type": "markdown",
   "metadata": {},
   "source": [
    "![pckg_imp.PNG](pckg_imp_2.PNG)  "
   ]
  },
  {
   "cell_type": "markdown",
   "metadata": {},
   "source": [
    "If you see the above screen, free of errors, you are good to go with the next steps.  "
   ]
  },
  {
   "cell_type": "markdown",
   "metadata": {},
   "source": [
    "## 3. Creating the script "
   ]
  },
  {
   "cell_type": "markdown",
   "metadata": {},
   "source": [
    "At this point, we have a virtual environment with the required packages installed within. Now, we can build our model in a script. To do that, we need to use an editor and in this tutorial, I use Spyder as the IDE to build our model. You can use Jupyter Notebook, Notepad++, Pycharm, VS, etc (any of them is fine). If you would like to continue using your existing editor, you need to make sure that your script uses the python in the virtual environment we just created as the interpreter. For instance, you can configure that in Spyder under \"Tools\" -> \"Preferences\" -> \"Python interpreter\", as below. This procedure can be a little tricky for Jupyter notebooks. That's why you can find a bonus section on how to add kernel to a Jupyter notebook at the end of this tutorial."
   ]
  },
  {
   "cell_type": "markdown",
   "metadata": {},
   "source": [
    "![pyt_intr.PNG](pyt_intr.PNG)  "
   ]
  },
  {
   "cell_type": "markdown",
   "metadata": {},
   "source": [
    "For the sake of completeness of this tutorial, I would like to introduce how to install Spyder as if we are just obtaining an editor for the first time. We will install Spyder into our virtual environment, so we won't need to configure the Python interpreter. The interpreter is, by default, python.exe in \"Scripts\" folder of the virtual environment, since we install Spyder with our virtual environment as the active environment.  \n",
    "There are mainly two ways to obtain Spyder:  \n",
    "1. Get it through Anaconda distribution (This is the easiest way!) (https://www.anaconda.com/distribution/)  \n",
    "In this first method, you will need to configure the Python interpreter as I explained above.\n",
    "2. Install it through pip package manager (I use this one and I introduce this method here :) )  \n",
    "You can find detailed information on: https://docs.spyder-ide.org/installation.html    "
   ]
  },
  {
   "cell_type": "markdown",
   "metadata": {},
   "source": [
    "In the Spyder installation document, it says installing Spyder through pip can be a little tricky. I tried it and didn't encounter any problem, but I don't completely know what to do in case any problem occurs. Therefore, if things go wrong with your trial, I recommend switching to Anaconda distribution as suggested in the document.    \n",
    "So, after my warnings, we can just try to install Spyder. It is the same way as if we are installing another package. You need to open command prompt window in the \"Scripts\" folder of your virtual environment, and then you need to activate the environment simply by typing \"activate\". We did it before :)  \n",
    "Then, you should type:  \n",
    "pip install spyder  \n",
    "\n",
    "You may wait for a little long for Spyder to finish installing. So, you can just give a break and get a coffee.  "
   ]
  },
  {
   "cell_type": "markdown",
   "metadata": {},
   "source": [
    "![ins_spy.PNG](ins_spy.PNG)  "
   ]
  },
  {
   "cell_type": "markdown",
   "metadata": {},
   "source": [
    "Hoping that you encountered no error and everything finished smoothly, we can now initialize Spyder to start building our model. To open Spyder, you need to type \"spyder3\" in the command prompt window right after the installation is complete, or you can find the application(.exe) file within the Scripts folder of our virtual environment and double-click on it.    "
   ]
  },
  {
   "cell_type": "markdown",
   "metadata": {},
   "source": [
    "![cmd_spy.PNG](cmd_spy.PNG)  "
   ]
  },
  {
   "cell_type": "markdown",
   "metadata": {},
   "source": [
    "After you applied any of the two methods above, the screen below will appear, and the editor screen will open at the end, hopefully :)  "
   ]
  },
  {
   "cell_type": "markdown",
   "metadata": {},
   "source": [
    "![spy_scr.PNG](spy_scr.PNG)  "
   ]
  },
  {
   "cell_type": "markdown",
   "metadata": {},
   "source": [
    "![spy_edt.PNG](spy_edt.PNG)  "
   ]
  },
  {
   "cell_type": "markdown",
   "metadata": {},
   "source": [
    "Just a last reminder, if things go wrong in any of the steps of installing Spyder through pip, you can just switch to installing it through Anaconda distribution.  "
   ]
  },
  {
   "cell_type": "markdown",
   "metadata": {},
   "source": [
    "Now, we are ready to write our model step by step. We continue to use the structure depicted in the Steps section of this tutorial. You can copy-paste code snippets from here to your own editor and try running them on your own while following the tutorial.  "
   ]
  },
  {
   "cell_type": "markdown",
   "metadata": {},
   "source": [
    "So, below is our first code snippet. You remember when we installed the required packages, now it's time to call them in our script, so that we can use their methods when building our model. (We didn't install \"os\" as it comes with python installation)      "
   ]
  },
  {
   "cell_type": "code",
   "execution_count": null,
   "metadata": {},
   "outputs": [],
   "source": [
    "import pandas as pd\n",
    "import numpy as np\n",
    "import matplotlib.pyplot as plt\n",
    "import quandl\n",
    "import os\n",
    "import xlsxwriter\n",
    "import datetime as dt"
   ]
  },
  {
   "cell_type": "markdown",
   "metadata": {},
   "source": [
    "### 3.1. Setting Desktop folder as the working directory"
   ]
  },
  {
   "cell_type": "markdown",
   "metadata": {},
   "source": [
    "Since we are building a desktop application, we need to set the playground to a folder on Desktop (or to Desktop itself). As I mentioned in Introduction of the tutorial, we will see how we can achieve to define a generic way to set our Desktop folder as the working directory, so that this application can run at any computer without any need to edit the code.  \n",
    "\n",
    "Using the code below, we can set our working directory to the Desktop for any user:  "
   ]
  },
  {
   "cell_type": "code",
   "execution_count": 3,
   "metadata": {},
   "outputs": [],
   "source": [
    "drctry = os.path.join(os.environ['USERPROFILE'], 'Desktop')\n",
    "os.chdir(drctry)"
   ]
  },
  {
   "cell_type": "markdown",
   "metadata": {},
   "source": [
    "Here, "
   ]
  },
  {
   "cell_type": "markdown",
   "metadata": {},
   "source": [
    "## 6. (Bonus) Adding kernel to Jupyter notebook"
   ]
  },
  {
   "cell_type": "markdown",
   "metadata": {},
   "source": [
    "In this section, we learn how to add a new kernel to Jupyter notebook and select the python.exe in our virtual environment as the interpreter, so that we can solely use the packages that we installed into the virtual environment and have a better control over our model.  \n",
    "\n",
    "Since we are going to use a new kernel in our virtual environment, we should manually install \"ipykernel\" into our virtual environment. To do this, we need to open command prompt in \"Scripts\" folder of our virtual environment and activate it. You can refer back to Section 2 for this. After doing that, we can install \"ipykernel\" by typing:  \n",
    "pip install ipykernel  "
   ]
  },
  {
   "cell_type": "markdown",
   "metadata": {},
   "source": [
    "![ipy_inst.PNG](ipy_inst.PNG)  "
   ]
  },
  {
   "cell_type": "markdown",
   "metadata": {},
   "source": [
    "Now, our virtual environment has the IPython backend to be used by Jupyter notebook. Next step is to add our virtual environment to Jupyter. We can add it by typing the below command:  \n",
    "python -m ipykernel install --user --name env_name --display-name \"Env Name\"  \n",
    "For env_name, you can type any name you want for your virtual environment. Display name is the name displayed on Jupyter when picking kernels.\n",
    "\n",
    "In our case, the above command can be something like below:  \n",
    "python -m ipykernel install --user --name python_venv_fxsimulator --display-name \"Python_VEnv_FXsimulator\"  "
   ]
  },
  {
   "cell_type": "markdown",
   "metadata": {},
   "source": [
    "![ipy_jupy.PNG](ipy_jupy.PNG)  "
   ]
  },
  {
   "cell_type": "markdown",
   "metadata": {},
   "source": [
    "\"Installed kernelspec python_venv_fxsimulator in C:\\Users\\Umut YILDIZ\\AppData\\Roaming\\jupyter\\kernels\\python_venv_fxsimulator\"  \n",
    "This statement indicates where the kernel specs are installed so that Jupyter can display it to us and we can pick it on the notebook. If you navigate to there, you see a \"kernel.json\" file.  "
   ]
  },
  {
   "cell_type": "markdown",
   "metadata": {},
   "source": [
    "![kern_jsn.PNG](kern_jsn.PNG)  "
   ]
  },
  {
   "cell_type": "markdown",
   "metadata": {},
   "source": [
    "When you open this file with a text editor, what you will see is the json text below:  "
   ]
  },
  {
   "cell_type": "markdown",
   "metadata": {},
   "source": [
    "![kern_jsn_ins.PNG](kern_jsn_ins.PNG)  "
   ]
  },
  {
   "cell_type": "markdown",
   "metadata": {},
   "source": [
    "You can see from the highlighted line that it is the path to the python interpreter in our virtual environment. Now, last step is to pick our virtual environment from the Jupyter notebook.  "
   ]
  },
  {
   "attachments": {},
   "cell_type": "markdown",
   "metadata": {},
   "source": [
    "![jupy_pick.PNG](jupy_pick.PNG)  "
   ]
  },
  {
   "cell_type": "markdown",
   "metadata": {},
   "source": [
    "That's it. We can now write our script using the virtual environment we created :)"
   ]
  },
  {
   "cell_type": "code",
   "execution_count": null,
   "metadata": {},
   "outputs": [],
   "source": []
  }
 ],
 "metadata": {
  "kernelspec": {
   "display_name": "Python_VEnv_FXsimulator",
   "language": "python",
   "name": "python_venv_fxsimulator"
  },
  "language_info": {
   "codemirror_mode": {
    "name": "ipython",
    "version": 3
   },
   "file_extension": ".py",
   "mimetype": "text/x-python",
   "name": "python",
   "nbconvert_exporter": "python",
   "pygments_lexer": "ipython3",
   "version": "3.7.4"
  }
 },
 "nbformat": 4,
 "nbformat_minor": 2
}
